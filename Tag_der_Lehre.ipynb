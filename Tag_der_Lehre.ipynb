{
 "cells": [
  {
   "cell_type": "markdown",
   "metadata": {
    "collapsed": false
   },
   "source": [
    "<div>\n",
    "    <img src=\"static/FHAachen-logo2.svg\" style=\"float: right;height: 15em;\">\n",
    "</div>\n",
    "<div>\n",
    "    <img src=\"static/IIIPIB_RWTH.png\" style=\"float: right;height: 6.5em;\">\n",
    "</div>\n",
    "\n",
    "## Tag der Lehre 2021\n",
    "\n",
    "**Darius Mottaghy**        \\\n",
    "FH Aachen         \n",
    "Fachbereich Energietechnik      \n",
    "   \n",
    "**Stefan Roth**        \\\n",
    "RWTH Aachen                 \n",
    "III. Physikalisches Institut B "
   ]
  },
  {
   "cell_type": "markdown",
   "metadata": {
    "collapsed": false
   },
   "source": [
    "### Wurfbewegung\n",
    "\n",
    "<div style=\" border: 2px solid black;margin: 10px auto; padding: 10px; border-radius: 10px;\">\n",
    "\n",
    "\n",
    "\n",
    "Die untere Abbildung zeigt einen Körper, der mit einer Anfangsgeschwindigkeit $\\vec{v}_0$ unter einem Winkel $\\theta_0$ zur Horizontalen geworfen wird. Der Abwurfpunkt sei $(x_0, y_0)$; die $y$-Achse zeige nach oben und die $x$-Achse nach rechts. \n",
    "\n",
    "\n",
    "<table cellpadding=\"0\"><tbody><tr>\n",
    "<td>\n",
    "<p style=\"text-align:center;font-size:small;\">\n",
    "<img img src=\"static/wurf.png\" alt=\"\" role=\"presentation\" class=\"img-responsive atto_image_button_middle\" style=\"height: 18em;\">\n",
    "<br>\n",
    "<b>Abbildung</b>: Der Weg mit den Geschwindigkeitsvektoren zu verschiedenen Zeiten beim schrägen Wurf.\n",
    "</p>\n",
    "</td>\n",
    "<td width=\"20\"></td>\n",
    "<tr>\n",
    "<td colspan=\"3\">\n",
    "<p style=\"text-align:center;font-size:smaller;color:gray;\">\n",
    "Quelle:  Halliday, David, et al. Halliday Physik Für Natur- und Ingenieurwissenschaftliche Studiengänge/© 2019. John Wiley & Sons, Incorporated\n",
    "</p>\n",
    "</td>\n",
    "</tr>\n",
    "</tbody></table>\n",
    "\n",
    "Die Wurfbewegungsgleichungen sind:\n",
    "\n",
    "\\begin{align}\n",
    "x(t) &= x_0 + v_0 \\cdot\\cos(\\theta_0)\\cdot t, \\\\\n",
    "y(t) &= y_0 + v_0 \\cdot\\sin(\\theta_0) -\\frac{1}{2}gt^2.  \n",
    "\\end{align}\n",
    "    \n",
    "Wenn $v_0$ und $\\theta_0$ gegeben sind, kann man der Flugdauer $t_{\\text{flug}}$ wie folgt berechnen:\n",
    "    \n",
    "$$t_{\\text{flug}}=\\frac{2v_0\\sin(\\theta_0)}{g}$$\n",
    "\n",
    "</div>    "
   ]
  },
  {
   "cell_type": "markdown",
   "metadata": {
    "collapsed": false
   },
   "source": [
    "Wir können die $x$- und $y$-Position des Objekts während des Fluges im Zeitraum $\\mathrm{0}$ bis $t_{\\text{flug}}$ in Abhängigkeit vom Wurfwinkel $\\theta_0$ berechnen. \n",
    "\n",
    "Klicken Sie <code>SHIFT⇪</code> + <code>ENTER ↵ </code> zum Ausführen des unten stehenden Codes."
   ]
  },
  {
   "cell_type": "code",
   "execution_count": 0,
   "metadata": {
    "collapsed": false
   },
   "outputs": [
   ],
   "source": [
    "import numpy as np\n",
    "\n",
    "v0 = 10   # Anfangsgeschwindigkeit in m/s  \n",
    "g = 9.81  # Erdbeschleinigung in m/s²\n",
    "x0 = 0 \n",
    "y0 = 0\n",
    "\n",
    "# x-Wurfbewegungsgleichung\n",
    "def x(theta0):\n",
    "    T = 2*v0*np.sin(np.radians(theta0))/g  # Flugdauer \n",
    "    t = np.linspace(0,T)                   # Zeitraum\n",
    "    return x0 + v0*np.cos(np.radians(theta0))*t \n",
    "\n",
    "# y-Wurfbewegungsgleichung\n",
    "def y(theta0):\n",
    "    T = 2*v0*np.sin(np.radians(theta0))/g  # Flugdauer \n",
    "    t = np.linspace(0,T)                   # Zeitraum\n",
    "    return y0 + v0*np.sin(np.radians(theta0))*t - 1/2*g*t**2"
   ]
  },
  {
   "cell_type": "markdown",
   "metadata": {
    "collapsed": false
   },
   "source": [
    "<div class=\"alert alert-block alert-info\">\n",
    "<i class=\"fas fa-lightbulb\"></i> <b>Code Tipps:</b> Plots\n",
    "<ul>\n",
    "\n",
    "<p>Wir benötigen 3 Schritte, um ein Diagramm zu erstellen (Wir können eine Analogie zur realen Welt herstellen): </p>\n",
    "<ol>\n",
    "<li>Module importieren (Papier, Stift und Lineal bereitlegen).</li>\n",
    "   \n",
    "```python\n",
    "import matplotlib.pyplot as plt\n",
    "```\n",
    "\n",
    "<li>$x$-Punkte für die Abszissenachse und die zugehörigen $y$-Punkte für die Ordinatenachse definieren (Tabelle mit Daten anlegen).</li>\n",
    "    \n",
    "```python\n",
    "x = x(35) # in m\n",
    "y = y(35) # in m    \n",
    "```    \n",
    "\n",
    "<li>Plotten, d.h. Graph in ein Koordinatensystem zeichnen (Punkte auf kariertes Papier eintragen und mit einer Kurve verbinden)</li>\n",
    "    \n",
    "```python\n",
    "plt.plot(x,y)      \n",
    "```    \n",
    "</ol>\n",
    "Wie in der Wissenschaft üblich, müssen Beschreibungen zu den Achsen hinzugefügt werden.\n",
    "    \n",
    "```python\n",
    "plt.xlabel('x(t) in m')\n",
    "plt.ylabel('y(t) in m')     \n",
    "``` \n",
    "\n",
    "</div>\n",
    "    \n",
    "Klicken Sie <code>SHIFT⇪</code> + <code>ENTER ↵ </code> zum Ausführen des unten stehenden Codes."
   ]
  },
  {
   "cell_type": "code",
   "execution_count": 0,
   "metadata": {
    "collapsed": false
   },
   "outputs": [
   ],
   "source": [
    "import matplotlib.pyplot as plt\n",
    "\n",
    "plt.plot(x(25), y(25), label='25°')   # Plot der Bahnkurve unter einem Winkel von 25°.\n",
    "plt.xlabel('x in $m$')\n",
    "plt.ylabel('y in $m$')\n",
    "plt.legend(loc=\"upper right\")\n",
    "plt.grid(True)"
   ]
  },
  {
   "cell_type": "markdown",
   "metadata": {
    "collapsed": false
   },
   "source": [
    "Jetzt können Sie die Bahnkurve für verschiede Winkel z.B. $30°, 45°, 75°$ und $80°$ skizzieren."
   ]
  },
  {
   "cell_type": "code",
   "execution_count": 0,
   "metadata": {
    "collapsed": false
   },
   "outputs": [
   ],
   "source": [
    "plt.plot(  )   # Schreiben Sie hier Ihren Code für die Darstellung des Winkels 30°\n",
    "plt.plot(  )   # Schreiben Sie hier Ihren Code für die Darstellung des Winkels 45°\n",
    "plt.plot(  )   # Schreiben Sie hier Ihren Code für die Darstellung des Winkels 75°\n",
    "plt.plot(  )   # Schreiben Sie hier Ihren Code für die Darstellung des Winkels 80°\n",
    "\n",
    "plt.xlabel('x in $m$')\n",
    "plt.ylabel('y in $m$')\n",
    "plt.legend(loc=\"upper right\")\n",
    "plt.grid(True)\n",
    "\n",
    "# Klicken Sie SHIFT⇪ + ENTER ↵ zum Ausführen des Codes."
   ]
  },
  {
   "cell_type": "markdown",
   "metadata": {
    "collapsed": false
   },
   "source": [
    "Auf dem Bild oben ist zu sehen, dass die Reichweite maximal ist, wenn das Objekt in einem Winkel von $45°$ geworfen wird. Können Sie erklären warum?\n",
    "\n",
    "Erklärung: Auswerten\n",
    "\n",
    "$$x(t) = v_0 \\cdot\\cos(\\theta_0)\\cdot t$$\n",
    "    \n",
    "bei $t = t_{\\text{flug}}$:\n",
    "    \n",
    "$$x(t_{\\text{flug}}) = v_0 \\cdot\\cos(\\theta_0)\\cdot \\frac{2v_0\\sin(\\theta_0)}{g}$$\n",
    "\n",
    "$$x(t_{\\text{flug}}) = v_0\\cdot\\cos\\theta_0 \\cdot t_{\\text{flug}}= \\frac{v_0^2}{g}\\underbrace{2\\cos\\theta_0\\sin\\theta_0}_{\\sin (2\\theta_0)}= \\frac{v_0^2}{g}\\sin (2\\theta_0)$$\n",
    "\n",
    "$\\frac{v_0^2}{g}\\sin (2\\theta_0)$ ist maximal wenn $\\sin (2\\theta_0) = 1$ bzw. $\\theta_0=45°$."
   ]
  }
 ],
 "metadata": {
  "kernelspec": {
   "display_name": "Python 3 (system-wide)",
   "language": "python",
   "metadata": {
    "cocalc": {
     "description": "Python 3 programming language",
     "priority": 100,
     "url": "https://www.python.org/"
    }
   },
   "name": "python3",
   "resource_dir": "/ext/jupyter/kernels/python3"
  },
  "language_info": {
   "codemirror_mode": {
    "name": "ipython",
    "version": 3
   },
   "file_extension": ".py",
   "mimetype": "text/x-python",
   "name": "python",
   "nbconvert_exporter": "python",
   "pygments_lexer": "ipython3",
   "version": "3.8.3"
  }
 },
 "nbformat": 4,
 "nbformat_minor": 4
}