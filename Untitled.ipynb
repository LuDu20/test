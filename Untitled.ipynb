{
 "cells": [
  {
   "cell_type": "markdown",
   "metadata": {},
   "source": [
    "<div>\n",
    "    <img src=\"static/FHAachen-logo2.svg\" style=\"float: right;height: 15em;\">\n",
    "</div>\n",
    "<div>\n",
    "    <img src=\"static/IIIPIB_RWTH.png\" style=\"float: right;height: 6.5em;\">\n",
    "</div>\n",
    "\n",
    "## Tag der Lehre 2021\n",
    "\n",
    "**Darius Mottaghy**        \\\n",
    "FH Aachen         \n",
    "Fachbereich Energietechnik      \n",
    "   \n",
    "**Stefan Roth**        \\\n",
    "RWTH Aachen                 \n",
    "III. Physikalisches Institut B "
   ]
  },
  {
   "cell_type": "markdown",
   "metadata": {},
   "source": [
    "### Reibung\n",
    "\n",
    "<div style=\" border: 2px solid black;margin: 10px auto; padding: 10px; border-radius: 10px;\">\n",
    "\n",
    "\n",
    "\n",
    "Die Bewegung eines Körpers auf einer Unterlage wird durch eine\n",
    "**Reibungskraft** $F_R$ gehemmt, welche der **bewegenden Kraft** entgegen gerichtet und von der Oberflächenbeschaffenheit abhängig ist. $F_R$  ist **unabhängig** von der **Auflagefläche** und der **Geschwindigkeit**.\n",
    "\n",
    "Im folgenden betrachten wir die Festkörperreibung, wobei wir zwischen Haft- und Gleitreibung unterscheiden:\n",
    "\n",
    "<table cellpadding=\"0\"><tbody><tr>\n",
    "<td>\n",
    "<p style=\"text-align:center;font-size:small;\">\n",
    "<img img src=\"static/ruh3.svg\" alt=\"\" role=\"presentation\" class=\"img-responsive atto_image_button_middle\" style=\"height: 10em;\">\n",
    "<br>\n",
    "<b>Abbildung</b>: Reibungen\n",
    "</p>\n",
    "</td>\n",
    "<td width=\"20\"></td>\n",
    "<tr>\n",
    "<td colspan=\"3\">\n",
    "<p style=\"text-align:center;font-size:smaller;color:gray;\">\n",
    "Quelle: commons.wikipedia.org\n",
    "</p>\n",
    "</td>\n",
    "</tr>\n",
    "</tbody></table>\n",
    "\n",
    "\n",
    "(1, 2) Die **Haftreibung** ist mit der Normalkraft über den Reibungskoeffizienten $\\mu_H$ verknüpft:\n",
    "$$F_{R} \\leq \\mu_H F_N$$\n",
    "\n",
    "(3) Der Körper beginnt zu rutschen (**maximale Haftreibung**), wenn gilt $F_{R,max} = \\mu_H F_N$.\n",
    "\n",
    "(4) Wenn der Körper gleitet, ist die Reibungskraft geringer (**Gleitreibung**), es gilt:\n",
    "$$F_{R} = \\mu_G F_N$$\n",
    "mit $ \\mu_G \\leq \\mu_H$.\n",
    "\n",
    "#### Schiefe Ebene mit Reibung\n",
    "Die Gewichtskraft $\\vec{F_G}$ wurde in die Normalkraft $\\vec{F}_{N,G}$ senkrecht zur Ebene und den Hangabtrieb $\\vec{F}_{H,G}$ parallel zur Ebene zerlegt. Der Körper drückt mit der Normalkraft auf die Ebene. Diese wird durch die Reactio der Ebene, die in umgekehrter Richtung zeigt, ausgeglichen. Die Haftreibungskraft $\\vec{F}_{R,\\text{Haft}}$ muss den Hangabtrieb kompensieren, sodass sich $\\vec{F_G}$, $\\vec{F_N}$ und $\\vec{F}_{R,\\text{Haft}}$ zu null addieren und der Körper in Ruhe bleibt.\n",
    "\n",
    "    \n",
    "<table cellpadding=\"0\"><tbody><tr>\n",
    "<td>\n",
    "<p style=\"text-align:center;font-size:small;\">\n",
    "<img img src=\"static/reibung.svg\" alt=\"\" role=\"presentation\" class=\"img-responsive atto_image_button_middle\" style=\"height: 18em;\">\n",
    "<br>\n",
    "<b>Abbildung</b>: Schiefe Ebene II\n",
    "</p>\n",
    "</td>\n",
    "<td width=\"20\"></td>\n",
    "\n",
    "</tbody></table>\n",
    "\n",
    "Die Rutschbedingung ist: $\\mu_H=\\tan\\alpha$.\n",
    "</div>    "
   ]
  },
  {
   "cell_type": "markdown",
   "metadata": {},
   "source": [
    "<div style=\" border: 2px solid #81bdec;; margin: 10px auto; padding: 10px; border-radius: 10px;\">\n",
    "<h4>\n",
    "    <i class=\"fas fa-laptop-code\"></i> Funktionen\n",
    "</h4>\n",
    "\n",
    "    \n",
    "    \n",
    "Eine Funktion kann man in folgender Form deklarieren:\n",
    "\n",
    "```python\n",
    "def Funktionsname(Funktionsargumente):\n",
    "    Funktionsanweisungen\n",
    "    return Resultat\n",
    "```\n",
    "\n",
    "**Der Vorteil** von Funktionen ist, dass sie **beliebig oft verwendet werden können**.\n",
    "Als Beispiel werden wir das Gewicht von Objekten mit unterschiedlichen Massen berechnen. Dafür werden wir die folgende Beziehung verwenden:\n",
    "$$G(m) = m \\cdot g$$\n",
    "1. Definieren Sie Ihre Funktion mit `def`, geben Sie ihr einen eindeutigen Namen und  wählen Sie geeignete Funktionsargumente. Vergessen Sie nicht, am Ende einen Doppelpunkt hinzuzufügen:\n",
    "\n",
    "```python\n",
    "g = 9.81        # Erdbeschleinigung in m/s²\n",
    "def Gewicht(m):\n",
    "```\n",
    "\n",
    "Hier hängt das Gewicht $G$ von der Masse $m$ ab. \n",
    "\n",
    "2. Klicken Sie auf <code>ENTER ↵</code> und schreiben Sie die Anweisungen Ihrer Funktion, Sie sollten am Anfang eine Einrückung erhalten.\n",
    "\n",
    "```python\n",
    "def Gewicht(m):\n",
    "    G = m*g\n",
    "```\n",
    "\n",
    "Die Funktion berechnet das Gewicht `G` mit der gegebenen Masse `m`.\n",
    "\n",
    "3. Am Ende wählen Sie dann mit Hilfe des `return`-Befehls, was Ihre Funktion ausgeben soll: \n",
    "\n",
    "```python\n",
    "def Gewicht(m):\n",
    "    G = m*g\n",
    "    return G\n",
    "```\n",
    "\n",
    "Jetzt ist die Funktion fertig und einsatzbereit!\n",
    "\n",
    "4. Aufruf der Funktion. Die Funktion wird mit dem Namen und den Werten der aktuellen Parametern aufgerufen. \n",
    "\n",
    "```python\n",
    "Gewicht(2)\n",
    "```\n",
    "\n",
    "ergibt\n",
    "\n",
    "```python\n",
    "19.62\n",
    "```\n",
    "\n",
    "Das entspricht dem Gewicht bei einer Masse von $2~\\text{kg}$.\n",
    "\n",
    "Verwenden Sie den untenstehenden Code, um das Gewicht für die Massen $2~\\text{kg}$, $10~\\text{kg}$ und $100~\\text{kg}$ zu berechnen. Vergessen Sie nicht mit <code>SHIFT ⇪</code> + <code>ENTER ↵</code>, jede Codezelle auszuführen. \n",
    "    \n",
    "</div>"
   ]
  },
  {
   "cell_type": "code",
   "execution_count": 4,
   "metadata": {},
   "outputs": [
    {
     "name": "stdout",
     "output_type": "stream",
     "text": [
      "Das Gewicht eines Objekts mit der Masse 2.0 kg beträgt 19.62 N.\n",
      "Das Gewicht eines Objekts mit der Masse 10.0 kg beträgt 98.10 N.\n",
      "Das Gewicht eines Objekts mit der Masse 100.0 kg beträgt 981.00 N.\n"
     ]
    }
   ],
   "source": [
    "g = 9.81\n",
    "def Gewicht(m):\n",
    "    G = m*g\n",
    "    return G\n",
    "\n",
    "\n",
    "print(\"Das Gewicht eines Objekts mit der Masse %.1f kg beträgt %.2f N.\" %(2,Gewicht(2)))\n",
    "print(\"Das Gewicht eines Objekts mit der Masse %.1f kg beträgt %.2f N.\" %(10,Gewicht(10)))\n",
    "print(\"Das Gewicht eines Objekts mit der Masse %.1f kg beträgt %.2f N.\" %(100,Gewicht(100)))"
   ]
  },
  {
   "cell_type": "code",
   "execution_count": null,
   "metadata": {},
   "outputs": [],
   "source": []
  },
  {
   "cell_type": "code",
   "execution_count": null,
   "metadata": {},
   "outputs": [],
   "source": []
  },
  {
   "cell_type": "code",
   "execution_count": null,
   "metadata": {},
   "outputs": [],
   "source": []
  },
  {
   "cell_type": "code",
   "execution_count": null,
   "metadata": {},
   "outputs": [],
   "source": []
  },
  {
   "cell_type": "code",
   "execution_count": null,
   "metadata": {},
   "outputs": [],
   "source": []
  },
  {
   "cell_type": "code",
   "execution_count": null,
   "metadata": {},
   "outputs": [],
   "source": []
  },
  {
   "cell_type": "code",
   "execution_count": null,
   "metadata": {},
   "outputs": [],
   "source": [
    "Versuchen Sie es selbst! Schreiben Sie eine Funktion "
   ]
  }
 ],
 "metadata": {
  "kernelspec": {
   "display_name": "Python 3",
   "language": "python",
   "name": "python3"
  },
  "language_info": {
   "codemirror_mode": {
    "name": "ipython",
    "version": 3
   },
   "file_extension": ".py",
   "mimetype": "text/x-python",
   "name": "python",
   "nbconvert_exporter": "python",
   "pygments_lexer": "ipython3",
   "version": "3.8.3"
  }
 },
 "nbformat": 4,
 "nbformat_minor": 4
}
